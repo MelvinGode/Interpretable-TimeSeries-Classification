{
  "cells": [
    {
      "cell_type": "markdown",
      "metadata": {
        "id": "RSMI4Xo7EbJO"
      },
      "source": [
        "# Installation / import"
      ]
    },
    {
      "cell_type": "code",
      "execution_count": 1,
      "metadata": {
        "colab": {
          "base_uri": "https://localhost:8080/"
        },
        "id": "C0SYEonB8Ztt",
        "outputId": "25b1e44f-e110-49ea-9013-a11209b18652"
      },
      "outputs": [
        {
          "name": "stdout",
          "output_type": "stream",
          "text": [
            "Requirement already satisfied: mrseql in /usr/local/lib/python3.10/dist-packages (0.0.4)\n",
            "Requirement already satisfied: numpy>=1.18 in /usr/local/lib/python3.10/dist-packages (from mrseql) (1.26.4)\n",
            "Requirement already satisfied: pandas>=1.0.3 in /usr/local/lib/python3.10/dist-packages (from mrseql) (2.2.2)\n",
            "Requirement already satisfied: scikit-learn>=0.22 in /usr/local/lib/python3.10/dist-packages (from mrseql) (1.5.2)\n",
            "Requirement already satisfied: python-dateutil>=2.8.2 in /usr/local/lib/python3.10/dist-packages (from pandas>=1.0.3->mrseql) (2.8.2)\n",
            "Requirement already satisfied: pytz>=2020.1 in /usr/local/lib/python3.10/dist-packages (from pandas>=1.0.3->mrseql) (2024.2)\n",
            "Requirement already satisfied: tzdata>=2022.7 in /usr/local/lib/python3.10/dist-packages (from pandas>=1.0.3->mrseql) (2024.2)\n",
            "Requirement already satisfied: scipy>=1.6.0 in /usr/local/lib/python3.10/dist-packages (from scikit-learn>=0.22->mrseql) (1.13.1)\n",
            "Requirement already satisfied: joblib>=1.2.0 in /usr/local/lib/python3.10/dist-packages (from scikit-learn>=0.22->mrseql) (1.4.2)\n",
            "Requirement already satisfied: threadpoolctl>=3.1.0 in /usr/local/lib/python3.10/dist-packages (from scikit-learn>=0.22->mrseql) (3.5.0)\n",
            "Requirement already satisfied: six>=1.5 in /usr/local/lib/python3.10/dist-packages (from python-dateutil>=2.8.2->pandas>=1.0.3->mrseql) (1.17.0)\n",
            "Requirement already satisfied: sktime in /usr/local/lib/python3.10/dist-packages (0.35.0)\n",
            "Requirement already satisfied: joblib<1.5,>=1.2.0 in /usr/local/lib/python3.10/dist-packages (from sktime) (1.4.2)\n",
            "Requirement already satisfied: numpy<2.2,>=1.21 in /usr/local/lib/python3.10/dist-packages (from sktime) (1.26.4)\n",
            "Requirement already satisfied: packaging in /usr/local/lib/python3.10/dist-packages (from sktime) (24.2)\n",
            "Requirement already satisfied: pandas<2.3.0,>=1.1 in /usr/local/lib/python3.10/dist-packages (from sktime) (2.2.2)\n",
            "Requirement already satisfied: scikit-base<0.13.0,>=0.6.1 in /usr/local/lib/python3.10/dist-packages (from sktime) (0.12.0)\n",
            "Requirement already satisfied: scikit-learn<1.6.0,>=0.24 in /usr/local/lib/python3.10/dist-packages (from sktime) (1.5.2)\n",
            "Requirement already satisfied: scipy<2.0.0,>=1.2 in /usr/local/lib/python3.10/dist-packages (from sktime) (1.13.1)\n",
            "Requirement already satisfied: python-dateutil>=2.8.2 in /usr/local/lib/python3.10/dist-packages (from pandas<2.3.0,>=1.1->sktime) (2.8.2)\n",
            "Requirement already satisfied: pytz>=2020.1 in /usr/local/lib/python3.10/dist-packages (from pandas<2.3.0,>=1.1->sktime) (2024.2)\n",
            "Requirement already satisfied: tzdata>=2022.7 in /usr/local/lib/python3.10/dist-packages (from pandas<2.3.0,>=1.1->sktime) (2024.2)\n",
            "Requirement already satisfied: threadpoolctl>=3.1.0 in /usr/local/lib/python3.10/dist-packages (from scikit-learn<1.6.0,>=0.24->sktime) (3.5.0)\n",
            "Requirement already satisfied: six>=1.5 in /usr/local/lib/python3.10/dist-packages (from python-dateutil>=2.8.2->pandas<2.3.0,>=1.1->sktime) (1.17.0)\n",
            "Requirement already satisfied: aeon in /usr/local/lib/python3.10/dist-packages (1.0.0)\n",
            "Requirement already satisfied: deprecated>=1.2.13 in /usr/local/lib/python3.10/dist-packages (from aeon) (1.2.15)\n",
            "Requirement already satisfied: numba<0.61.0,>=0.55 in /usr/local/lib/python3.10/dist-packages (from aeon) (0.60.0)\n",
            "Requirement already satisfied: numpy<2.1.0,>=1.21.0 in /usr/local/lib/python3.10/dist-packages (from aeon) (1.26.4)\n",
            "Requirement already satisfied: packaging>=20.0 in /usr/local/lib/python3.10/dist-packages (from aeon) (24.2)\n",
            "Requirement already satisfied: pandas<2.3.0,>=2.0.0 in /usr/local/lib/python3.10/dist-packages (from aeon) (2.2.2)\n",
            "Requirement already satisfied: scikit-learn<1.6.0,>=1.0.0 in /usr/local/lib/python3.10/dist-packages (from aeon) (1.5.2)\n",
            "Requirement already satisfied: scipy<1.15.0,>=1.9.0 in /usr/local/lib/python3.10/dist-packages (from aeon) (1.13.1)\n",
            "Requirement already satisfied: typing-extensions>=4.6.0 in /usr/local/lib/python3.10/dist-packages (from aeon) (4.12.2)\n",
            "Requirement already satisfied: wrapt<2,>=1.10 in /usr/local/lib/python3.10/dist-packages (from deprecated>=1.2.13->aeon) (1.17.0)\n",
            "Requirement already satisfied: llvmlite<0.44,>=0.43.0dev0 in /usr/local/lib/python3.10/dist-packages (from numba<0.61.0,>=0.55->aeon) (0.43.0)\n",
            "Requirement already satisfied: python-dateutil>=2.8.2 in /usr/local/lib/python3.10/dist-packages (from pandas<2.3.0,>=2.0.0->aeon) (2.8.2)\n",
            "Requirement already satisfied: pytz>=2020.1 in /usr/local/lib/python3.10/dist-packages (from pandas<2.3.0,>=2.0.0->aeon) (2024.2)\n",
            "Requirement already satisfied: tzdata>=2022.7 in /usr/local/lib/python3.10/dist-packages (from pandas<2.3.0,>=2.0.0->aeon) (2024.2)\n",
            "Requirement already satisfied: joblib>=1.2.0 in /usr/local/lib/python3.10/dist-packages (from scikit-learn<1.6.0,>=1.0.0->aeon) (1.4.2)\n",
            "Requirement already satisfied: threadpoolctl>=3.1.0 in /usr/local/lib/python3.10/dist-packages (from scikit-learn<1.6.0,>=1.0.0->aeon) (3.5.0)\n",
            "Requirement already satisfied: six>=1.5 in /usr/local/lib/python3.10/dist-packages (from python-dateutil>=2.8.2->pandas<2.3.0,>=2.0.0->aeon) (1.17.0)\n"
          ]
        }
      ],
      "source": [
        "!pip install mrseql\n",
        "!pip install sktime\n",
        "!pip install aeon\n",
        "!pip install pyts"
      ]
    },
    {
      "cell_type": "code",
      "execution_count": null,
      "metadata": {
        "id": "zvQtwbg4CJDS"
      },
      "outputs": [],
      "source": [
        "import math\n",
        "import numpy as np\n",
        "from scipy.stats import mode\n",
        "\n",
        "from sklearn import metrics\n",
        "from sklearn.model_selection import train_test_split\n",
        "from sklearn.feature_extraction.text import CountVectorizer\n",
        "from sklearn.linear_model import LogisticRegression\n",
        "\n",
        "from sktime.datasets import load_arrow_head, load_basic_motions\n",
        "from sktime.classification.shapelet_based import MrSEQL\n",
        "from aeon.datasets import load_classification\n",
        "\n",
        "from pyts.approximation import SymbolicAggregateApproximation\n",
        "from pyts.approximation import PiecewiseAggregateApproximation"
      ]
    },
    {
      "cell_type": "markdown",
      "metadata": {
        "id": "TdqkeiDNEplR"
      },
      "source": [
        "# Sanity test"
      ]
    },
    {
      "cell_type": "code",
      "execution_count": null,
      "metadata": {
        "colab": {
          "base_uri": "https://localhost:8080/"
        },
        "id": "IOXU71xiCOiC",
        "outputId": "5acea9f1-ecb7-4440-fd7e-0c1663a9ce13"
      },
      "outputs": [
        {
          "name": "stdout",
          "output_type": "stream",
          "text": [
            "(158, 1) (158,) (53, 1) (53,)\n"
          ]
        }
      ],
      "source": [
        "X, y = load_arrow_head(return_X_y=True)\n",
        "X_train, X_test, y_train, y_test = train_test_split(X, y, random_state=42)"
      ]
    },
    {
      "cell_type": "code",
      "execution_count": null,
      "metadata": {
        "colab": {
          "base_uri": "https://localhost:8080/"
        },
        "id": "9bUvgW-nCWI_",
        "outputId": "537aec51-0135-42ea-b463-d7b330b4a898"
      },
      "outputs": [
        {
          "name": "stderr",
          "output_type": "stream",
          "text": [
            "/usr/local/lib/python3.10/dist-packages/sktime/classification/_delegate.py:66: FutureWarning: DataFrame.applymap has been deprecated. Use DataFrame.map instead.\n",
            "  estimator.fit(X=X, y=y)\n",
            "/usr/local/lib/python3.10/dist-packages/sklearn/linear_model/_logistic.py:1247: FutureWarning: 'multi_class' was deprecated in version 1.5 and will be removed in 1.7. From then on, it will always use 'multinomial'. Leave it to its default value to avoid this warning.\n",
            "  warnings.warn(\n",
            "/usr/local/lib/python3.10/dist-packages/sktime/classification/_delegate.py:96: FutureWarning: DataFrame.applymap has been deprecated. Use DataFrame.map instead.\n",
            "  return estimator.predict(X=X)\n"
          ]
        },
        {
          "name": "stdout",
          "output_type": "stream",
          "text": [
            "Accuracy with mr-seql: 0.981\n"
          ]
        }
      ],
      "source": [
        "ms = MrSEQL(seql_mode='fs', symrep=['sax', 'sfa'])\n",
        "\n",
        "ms.fit(X_train,y_train)\n",
        "\n",
        "predicted = ms.predict(X_test)\n",
        "print(\"Accuracy with mr-seql: %2.3f\" % metrics.accuracy_score(y_test, predicted))"
      ]
    },
    {
      "cell_type": "markdown",
      "metadata": {
        "id": "HGSmlOmJH8qs"
      },
      "source": [
        "# Import handwriting dataset"
      ]
    },
    {
      "cell_type": "code",
      "execution_count": null,
      "metadata": {
        "colab": {
          "base_uri": "https://localhost:8080/"
        },
        "id": "Paaj5DinD7iP",
        "outputId": "9c6c479d-598d-4c1e-96a9-52bf4dc154f6"
      },
      "outputs": [
        {
          "name": "stdout",
          "output_type": "stream",
          "text": [
            " Shape of X =  (1000, 3, 152)\n",
            " Shape of y =  (1000,)\n",
            " Meta data =  {'problemname': 'handwriting', 'timestamps': False, 'missing': False, 'univariate': False, 'equallength': True, 'classlabel': True, 'targetlabel': False, 'class_values': ['1.0', '2.0', '3.0', '4.0', '5.0', '6.0', '7.0', '8.0', '9.0', '10.0', '11.0', '12.0', '13.0', '14.0', '15.0', '16.0', '17.0', '18.0', '19.0', '20.0', '21.0', '22.0', '23.0', '24.0', '25.0', '26.0']}\n"
          ]
        }
      ],
      "source": [
        "X, y, meta_data = load_classification(\"Handwriting\",\n",
        "                                      return_metadata=True,\n",
        "                                      load_equal_length=False,\n",
        "                                      )\n",
        "print(\" Shape of X = \", X.shape)\n",
        "print(\" Shape of y = \", y.shape)\n",
        "print(\" Meta data = \", meta_data)"
      ]
    },
    {
      "cell_type": "code",
      "execution_count": null,
      "metadata": {
        "colab": {
          "base_uri": "https://localhost:8080/"
        },
        "id": "ZXV9gCPoLa02",
        "outputId": "09313848-4bfd-4f4a-cff0-fe83cd7cecef"
      },
      "outputs": [
        {
          "name": "stdout",
          "output_type": "stream",
          "text": [
            "(600, 3, 152) (600,) (400, 3, 152) (400,)\n"
          ]
        }
      ],
      "source": [
        "X_train, X_test, y_train, y_test = train_test_split(X, y, test_size=0.40, random_state=42)\n",
        "print(X_train.shape, y_train.shape, X_test.shape, y_test.shape)"
      ]
    },
    {
      "cell_type": "markdown",
      "metadata": {
        "id": "VY8PTC4YD-Vp"
      },
      "source": [
        "# MrSEQL on 1 dimension"
      ]
    },
    {
      "cell_type": "code",
      "execution_count": null,
      "metadata": {
        "colab": {
          "base_uri": "https://localhost:8080/"
        },
        "id": "3ul-fcliERgL",
        "outputId": "ddf55d72-80ed-4bb2-c6d7-bf046e356b47"
      },
      "outputs": [
        {
          "name": "stderr",
          "output_type": "stream",
          "text": [
            "/usr/local/lib/python3.10/dist-packages/dask/dataframe/__init__.py:42: FutureWarning: \n",
            "Dask dataframe query planning is disabled because dask-expr is not installed.\n",
            "\n",
            "You can install it with `pip install dask[dataframe]` or `conda install dask`.\n",
            "This will raise in a future version.\n",
            "\n",
            "  warnings.warn(msg, FutureWarning)\n",
            "/usr/local/lib/python3.10/dist-packages/sktime/classification/_delegate.py:66: FutureWarning: DataFrame.applymap has been deprecated. Use DataFrame.map instead.\n",
            "  estimator.fit(X=X, y=y)\n",
            "/usr/local/lib/python3.10/dist-packages/sktime/classification/_delegate.py:96: FutureWarning: DataFrame.applymap has been deprecated. Use DataFrame.map instead.\n",
            "  return estimator.predict(X=X)\n"
          ]
        },
        {
          "name": "stdout",
          "output_type": "stream",
          "text": [
            "Accuracy with mr-seql: 0.545\n"
          ]
        }
      ],
      "source": [
        "ms = MrSEQL(seql_mode='clf', symrep=['sax', 'sfa'])\n",
        "\n",
        "ms.fit(X_train[:, 0, :],y_train)\n",
        "\n",
        "predicted = ms.predict(X_test[:, 0, :])\n",
        "print(\"Accuracy with mr-seql: %2.3f\" % metrics.accuracy_score(y_test, predicted))"
      ]
    },
    {
      "cell_type": "markdown",
      "metadata": {
        "id": "OZOTz0CqYGwa"
      },
      "source": [
        "# MrSEQL - concatenated dimensions\n"
      ]
    },
    {
      "cell_type": "code",
      "execution_count": null,
      "metadata": {
        "colab": {
          "base_uri": "https://localhost:8080/"
        },
        "id": "7ZfoNNdtERzT",
        "outputId": "e26cc3fd-c068-4fdf-cfb4-4a9775b36c8e"
      },
      "outputs": [
        {
          "name": "stdout",
          "output_type": "stream",
          "text": [
            "(600, 456) (600,) (400, 456) (400,)\n"
          ]
        }
      ],
      "source": [
        "X_concat = X.reshape(1000, 456)\n",
        "X_train_concat, X_test_concat, y_train, y_test = train_test_split(X_concat, y, test_size=0.40, random_state=42)\n",
        "print(X_train_concat.shape, y_train.shape, X_test_concat.shape, y_test.shape)"
      ]
    },
    {
      "cell_type": "code",
      "execution_count": null,
      "metadata": {
        "colab": {
          "base_uri": "https://localhost:8080/"
        },
        "id": "_KUPtdEUER1w",
        "outputId": "6e3546ff-be2a-48e5-e060-a9b6bfab6392"
      },
      "outputs": [
        {
          "name": "stderr",
          "output_type": "stream",
          "text": [
            "/usr/local/lib/python3.10/dist-packages/sktime/classification/_delegate.py:66: FutureWarning: DataFrame.applymap has been deprecated. Use DataFrame.map instead.\n",
            "  estimator.fit(X=X, y=y)\n"
          ]
        }
      ],
      "source": [
        "ms = MrSEQL(seql_mode='clf', symrep=['sax'])\n",
        "\n",
        "ms.fit(X_train_concat, y_train)\n",
        "\n",
        "predicted = ms.predict(X_test_concat)\n",
        "print(\"Accuracy with mr-seql: %2.3f\" % metrics.accuracy_score(y_test, predicted))"
      ]
    },
    {
      "cell_type": "markdown",
      "metadata": {
        "id": "sEveq-17WjYe"
      },
      "source": [
        "# MrSEQL on each dimension + Vote ensembling\n",
        "\n"
      ]
    },
    {
      "cell_type": "code",
      "execution_count": null,
      "metadata": {
        "colab": {
          "base_uri": "https://localhost:8080/"
        },
        "id": "-92rCJNzWj9I",
        "outputId": "e1a5164b-2b03-4553-d7a7-de5f03d2379b"
      },
      "outputs": [
        {
          "name": "stdout",
          "output_type": "stream",
          "text": [
            "Training dimension 0...\n"
          ]
        },
        {
          "name": "stderr",
          "output_type": "stream",
          "text": [
            "/usr/local/lib/python3.10/dist-packages/dask/dataframe/__init__.py:42: FutureWarning: \n",
            "Dask dataframe query planning is disabled because dask-expr is not installed.\n",
            "\n",
            "You can install it with `pip install dask[dataframe]` or `conda install dask`.\n",
            "This will raise in a future version.\n",
            "\n",
            "  warnings.warn(msg, FutureWarning)\n",
            "/usr/local/lib/python3.10/dist-packages/sktime/classification/_delegate.py:66: FutureWarning: DataFrame.applymap has been deprecated. Use DataFrame.map instead.\n",
            "  estimator.fit(X=X, y=y)\n"
          ]
        }
      ],
      "source": [
        "nb_dim = X.shape[1]\n",
        "preds_by_dim = []\n",
        "\n",
        "for dim in range(nb_dim):\n",
        "  X_train_dim = X_train[:, dim, :]\n",
        "  X_test_dim = X_test[:, dim, :]\n",
        "\n",
        "  print(f\"Training dimension {dim}...\")\n",
        "  ms = MrSEQL(seql_mode='clf', symrep=['sax'])\n",
        "  ms.fit(X_train_dim,y_train)\n",
        "\n",
        "  print(f\"Predictions dimension {dim}...\")\n",
        "  pred = ms.predict(X_test_dim)\n",
        "  preds_by_dim.append(pred)"
      ]
    },
    {
      "cell_type": "code",
      "execution_count": null,
      "metadata": {
        "id": "2Ulm1_VNd74d"
      },
      "outputs": [],
      "source": [
        "preds_by_dim = np.array(preds_by_dim).astype(float)\n",
        "preds_vote = mode(preds_by_dim, axis=0)\n",
        "print(\"Accuracy with mr-seql: %2.3f\" % metrics.accuracy_score(y_test, preds_vote.mode.astype('<U4')))"
      ]
    },
    {
      "cell_type": "markdown",
      "metadata": {
        "id": "zdB5UGA0xwGR"
      },
      "source": [
        "# Ensemble SEQL alternative implementation (univariate)"
      ]
    },
    {
      "cell_type": "code",
      "execution_count": 18,
      "metadata": {
        "colab": {
          "base_uri": "https://localhost:8080/"
        },
        "id": "9MGyHIZe5XJl",
        "outputId": "6c0fc3f6-ce38-4863-a1ce-5f5df2ec9de7"
      },
      "outputs": [
        {
          "name": "stdout",
          "output_type": "stream",
          "text": [
            "Shape of X_train_mag: (600, 152)\n",
            "Shape of X_test_mag: (400, 152)\n"
          ]
        }
      ],
      "source": [
        "X, y, meta_data = load_classification(\"Handwriting\", return_metadata=True, load_equal_length=False)\n",
        "X_train, X_test, y_train, y_test = train_test_split(X, y, test_size=0.40, random_state=42)\n",
        "\n",
        "# Magnitude of the multivariate time series data\n",
        "X_train_mag = np.linalg.norm(X_train, axis=1)\n",
        "X_test_mag = np.linalg.norm(X_test, axis=1)\n",
        "\n",
        "print(\"Shape of X_train_mag:\", X_train_mag.shape)\n",
        "print(\"Shape of X_test_mag:\", X_test_mag.shape)"
      ]
    },
    {
      "cell_type": "code",
      "execution_count": 19,
      "metadata": {
        "id": "QBVJpbD-xzUo"
      },
      "outputs": [],
      "source": [
        "def sax_sliding_window(\n",
        "    time_series,\n",
        "    window_length=16,   # l\n",
        "    word_size=16,       # w\n",
        "    alphabet_size=4,    # alpha\n",
        "    numerosity_reduction=True\n",
        "):\n",
        "    \"\"\"\n",
        "    Transform a univariate time series into a list of SAX words\n",
        "    using a sliding window of length `window_length`.\n",
        "    PAA reduces each subsequence to `word_size`,\n",
        "    then SymbolicAggregateApproximation uses an alphabet of `alphabet_size`.\n",
        "    \"\"\"\n",
        "    L = len(time_series)\n",
        "    if L < window_length:\n",
        "        return []\n",
        "\n",
        "    paa = PiecewiseAggregateApproximation(output_size=word_size)\n",
        "    sax = SymbolicAggregateApproximation(n_bins=alphabet_size, strategy='normal')\n",
        "\n",
        "    sax_words_list = []\n",
        "    last_word = None\n",
        "\n",
        "    for start in range(0, L - window_length + 1):\n",
        "        subseq = time_series[start : start + window_length]\n",
        "        mean_val = np.mean(subseq)\n",
        "        std_val  = np.std(subseq)\n",
        "        if std_val == 0:\n",
        "            z_subseq = np.zeros_like(subseq)\n",
        "        else:\n",
        "            z_subseq = (subseq - mean_val) / std_val\n",
        "\n",
        "        paa_result = paa.transform(z_subseq.reshape(1, -1))\n",
        "        sax_word_array = sax.transform(paa_result)\n",
        "        sax_word = ''.join(sax_word_array[0])\n",
        "\n",
        "        # skip consecutive duplicates\n",
        "        if numerosity_reduction:\n",
        "            if sax_word != last_word:\n",
        "                sax_words_list.append(sax_word)\n",
        "                last_word = sax_word\n",
        "        else:\n",
        "            sax_words_list.append(sax_word)\n",
        "\n",
        "    return sax_words_list\n"
      ]
    },
    {
      "cell_type": "code",
      "execution_count": 21,
      "metadata": {
        "id": "CgkxixFRxzaT"
      },
      "outputs": [],
      "source": [
        "def ensemble_seql_train(X_train, y_train, min_l=16, word_size=16, alpha_size=4):\n",
        "    \"\"\"\n",
        "    Train an ensemble of \"SEQL-like\" models at multiple resolutions:\n",
        "      - We vary the sliding window size l from `min_l` to L in steps of sqrt(L).\n",
        "      - Each model is (SAX -> n-grams -> logistic regression).\n",
        "    Returns a dictionary of (l -> (vectorizer, classifier)).\n",
        "    Assumes univariate data, shape X_train: (n_samples, series_length).\n",
        "    \"\"\"\n",
        "    L = X_train.shape[1]\n",
        "\n",
        "    step_size = int(math.sqrt(L))\n",
        "    if step_size < 1:\n",
        "        step_size = 1\n",
        "\n",
        "    ensemble_models = {}\n",
        "\n",
        "    # multiple resolutions\n",
        "    l_val = min_l\n",
        "    while l_val <= L:\n",
        "        print(f\"[Ensemble] Training model for window size l={l_val} ...\")\n",
        "\n",
        "        # SAX\n",
        "        train_docs = []\n",
        "        for ts in X_train:\n",
        "            sax_words = sax_sliding_window(\n",
        "                time_series=ts,\n",
        "                window_length=l_val,\n",
        "                word_size=word_size,\n",
        "                alphabet_size=alpha_size,\n",
        "                numerosity_reduction=True\n",
        "            )\n",
        "            doc = \" \".join(sax_words)\n",
        "            train_docs.append(doc)\n",
        "\n",
        "        # ngram\n",
        "        vectorizer = CountVectorizer(analyzer='char', ngram_range=(2, 5))\n",
        "        X_bow = vectorizer.fit_transform(train_docs)\n",
        "\n",
        "        # logistic regression\n",
        "        clf = LogisticRegression(\n",
        "            penalty='l2',\n",
        "            solver='lbfgs',\n",
        "            max_iter=1400,\n",
        "            multi_class='ovr'\n",
        "        )\n",
        "        clf.fit(X_bow, y_train)\n",
        "\n",
        "        ensemble_models[l_val] = (vectorizer, clf)\n",
        "\n",
        "        l_val += step_size\n",
        "\n",
        "    return ensemble_models\n"
      ]
    },
    {
      "cell_type": "code",
      "execution_count": 20,
      "metadata": {
        "id": "bejS3AU2xzrU"
      },
      "outputs": [],
      "source": [
        "def ensemble_seql_predict(X_test, ensemble_models, word_size=16, alpha_size=4):\n",
        "    \"\"\"\n",
        "    Predict labels for test set using an ensemble of models\n",
        "    stored in `ensemble_models` (a dict: l -> (vectorizer, clf)).\n",
        "    - For each l, do SAX transform with (l, word_size, alpha_size),\n",
        "      convert to n-gram features, get classifier output.\n",
        "    - For binary classification, sum decision_function and take sign.\n",
        "    - For multi-class, sum predicted probabilities across all models\n",
        "      and pick the argmax.\n",
        "    Returns: y_pred (array of shape (n_test,)).\n",
        "    \"\"\"\n",
        "    all_l = sorted(ensemble_models.keys())\n",
        "\n",
        "    first_l = all_l[0]\n",
        "    _, first_clf = ensemble_models[first_l]\n",
        "    classes_ = first_clf.classes_\n",
        "    n_classes = len(classes_)\n",
        "\n",
        "    accum = None\n",
        "\n",
        "    n_test = X_test.shape[0]\n",
        "    # For each model\n",
        "    for l_val in all_l:\n",
        "        vectorizer, clf = ensemble_models[l_val]\n",
        "\n",
        "        # SAX\n",
        "        test_docs = []\n",
        "        for ts in X_test:\n",
        "            sax_words = sax_sliding_window(\n",
        "                time_series=ts,\n",
        "                window_length=l_val,\n",
        "                word_size=word_size,\n",
        "                alphabet_size=alpha_size,\n",
        "                numerosity_reduction=True\n",
        "            )\n",
        "            doc = \" \".join(sax_words)\n",
        "            test_docs.append(doc)\n",
        "\n",
        "        X_test_bow = vectorizer.transform(test_docs)\n",
        "\n",
        "        if n_classes == 2:\n",
        "            df = clf.decision_function(X_test_bow)  # shape (n_samples,)\n",
        "            if accum is None:\n",
        "                accum = df\n",
        "            else:\n",
        "                accum += df\n",
        "        else:\n",
        "            prob = clf.predict_proba(X_test_bow)  # shape (n_samples, n_classes)\n",
        "            if accum is None:\n",
        "                accum = prob\n",
        "            else:\n",
        "                accum += prob\n",
        "\n",
        "    if n_classes == 2:\n",
        "        y_pred = np.where(accum >= 0, classes_[1], classes_[0])\n",
        "    else:\n",
        "        best_idx = np.argmax(accum, axis=1)\n",
        "        y_pred = classes_[best_idx]\n",
        "\n",
        "    return y_pred\n"
      ]
    },
    {
      "cell_type": "code",
      "execution_count": 9,
      "metadata": {
        "colab": {
          "base_uri": "https://localhost:8080/"
        },
        "id": "ura7QPf5xzu0",
        "outputId": "e50be514-0839-48f0-c986-216c99aec2c1"
      },
      "outputs": [
        {
          "name": "stdout",
          "output_type": "stream",
          "text": [
            "[Ensemble] Training model for window size l=16 ...\n"
          ]
        },
        {
          "name": "stderr",
          "output_type": "stream",
          "text": [
            "/usr/local/lib/python3.10/dist-packages/sklearn/linear_model/_logistic.py:1256: FutureWarning: 'multi_class' was deprecated in version 1.5 and will be removed in 1.7. Use OneVsRestClassifier(LogisticRegression(..)) instead. Leave it to its default value to avoid this warning.\n",
            "  warnings.warn(\n"
          ]
        },
        {
          "name": "stdout",
          "output_type": "stream",
          "text": [
            "[Ensemble] Training model for window size l=28 ...\n"
          ]
        },
        {
          "name": "stderr",
          "output_type": "stream",
          "text": [
            "/usr/local/lib/python3.10/dist-packages/sklearn/linear_model/_logistic.py:1256: FutureWarning: 'multi_class' was deprecated in version 1.5 and will be removed in 1.7. Use OneVsRestClassifier(LogisticRegression(..)) instead. Leave it to its default value to avoid this warning.\n",
            "  warnings.warn(\n"
          ]
        },
        {
          "name": "stdout",
          "output_type": "stream",
          "text": [
            "[Ensemble] Training model for window size l=40 ...\n"
          ]
        },
        {
          "name": "stderr",
          "output_type": "stream",
          "text": [
            "/usr/local/lib/python3.10/dist-packages/sklearn/linear_model/_logistic.py:1256: FutureWarning: 'multi_class' was deprecated in version 1.5 and will be removed in 1.7. Use OneVsRestClassifier(LogisticRegression(..)) instead. Leave it to its default value to avoid this warning.\n",
            "  warnings.warn(\n"
          ]
        },
        {
          "name": "stdout",
          "output_type": "stream",
          "text": [
            "[Ensemble] Training model for window size l=52 ...\n"
          ]
        },
        {
          "name": "stderr",
          "output_type": "stream",
          "text": [
            "/usr/local/lib/python3.10/dist-packages/sklearn/linear_model/_logistic.py:1256: FutureWarning: 'multi_class' was deprecated in version 1.5 and will be removed in 1.7. Use OneVsRestClassifier(LogisticRegression(..)) instead. Leave it to its default value to avoid this warning.\n",
            "  warnings.warn(\n"
          ]
        },
        {
          "name": "stdout",
          "output_type": "stream",
          "text": [
            "[Ensemble] Training model for window size l=64 ...\n"
          ]
        },
        {
          "name": "stderr",
          "output_type": "stream",
          "text": [
            "/usr/local/lib/python3.10/dist-packages/sklearn/linear_model/_logistic.py:1256: FutureWarning: 'multi_class' was deprecated in version 1.5 and will be removed in 1.7. Use OneVsRestClassifier(LogisticRegression(..)) instead. Leave it to its default value to avoid this warning.\n",
            "  warnings.warn(\n"
          ]
        },
        {
          "name": "stdout",
          "output_type": "stream",
          "text": [
            "[Ensemble] Training model for window size l=76 ...\n"
          ]
        },
        {
          "name": "stderr",
          "output_type": "stream",
          "text": [
            "/usr/local/lib/python3.10/dist-packages/sklearn/linear_model/_logistic.py:1256: FutureWarning: 'multi_class' was deprecated in version 1.5 and will be removed in 1.7. Use OneVsRestClassifier(LogisticRegression(..)) instead. Leave it to its default value to avoid this warning.\n",
            "  warnings.warn(\n"
          ]
        },
        {
          "name": "stdout",
          "output_type": "stream",
          "text": [
            "[Ensemble] Training model for window size l=88 ...\n"
          ]
        },
        {
          "name": "stderr",
          "output_type": "stream",
          "text": [
            "/usr/local/lib/python3.10/dist-packages/sklearn/linear_model/_logistic.py:1256: FutureWarning: 'multi_class' was deprecated in version 1.5 and will be removed in 1.7. Use OneVsRestClassifier(LogisticRegression(..)) instead. Leave it to its default value to avoid this warning.\n",
            "  warnings.warn(\n"
          ]
        },
        {
          "name": "stdout",
          "output_type": "stream",
          "text": [
            "[Ensemble] Training model for window size l=100 ...\n"
          ]
        },
        {
          "name": "stderr",
          "output_type": "stream",
          "text": [
            "/usr/local/lib/python3.10/dist-packages/sklearn/linear_model/_logistic.py:1256: FutureWarning: 'multi_class' was deprecated in version 1.5 and will be removed in 1.7. Use OneVsRestClassifier(LogisticRegression(..)) instead. Leave it to its default value to avoid this warning.\n",
            "  warnings.warn(\n"
          ]
        },
        {
          "name": "stdout",
          "output_type": "stream",
          "text": [
            "[Ensemble] Training model for window size l=112 ...\n"
          ]
        },
        {
          "name": "stderr",
          "output_type": "stream",
          "text": [
            "/usr/local/lib/python3.10/dist-packages/sklearn/linear_model/_logistic.py:1256: FutureWarning: 'multi_class' was deprecated in version 1.5 and will be removed in 1.7. Use OneVsRestClassifier(LogisticRegression(..)) instead. Leave it to its default value to avoid this warning.\n",
            "  warnings.warn(\n"
          ]
        },
        {
          "name": "stdout",
          "output_type": "stream",
          "text": [
            "[Ensemble] Training model for window size l=124 ...\n"
          ]
        },
        {
          "name": "stderr",
          "output_type": "stream",
          "text": [
            "/usr/local/lib/python3.10/dist-packages/sklearn/linear_model/_logistic.py:1256: FutureWarning: 'multi_class' was deprecated in version 1.5 and will be removed in 1.7. Use OneVsRestClassifier(LogisticRegression(..)) instead. Leave it to its default value to avoid this warning.\n",
            "  warnings.warn(\n"
          ]
        },
        {
          "name": "stdout",
          "output_type": "stream",
          "text": [
            "[Ensemble] Training model for window size l=136 ...\n"
          ]
        },
        {
          "name": "stderr",
          "output_type": "stream",
          "text": [
            "/usr/local/lib/python3.10/dist-packages/sklearn/linear_model/_logistic.py:1256: FutureWarning: 'multi_class' was deprecated in version 1.5 and will be removed in 1.7. Use OneVsRestClassifier(LogisticRegression(..)) instead. Leave it to its default value to avoid this warning.\n",
            "  warnings.warn(\n"
          ]
        },
        {
          "name": "stdout",
          "output_type": "stream",
          "text": [
            "[Ensemble] Training model for window size l=148 ...\n"
          ]
        },
        {
          "name": "stderr",
          "output_type": "stream",
          "text": [
            "/usr/local/lib/python3.10/dist-packages/sklearn/linear_model/_logistic.py:1256: FutureWarning: 'multi_class' was deprecated in version 1.5 and will be removed in 1.7. Use OneVsRestClassifier(LogisticRegression(..)) instead. Leave it to its default value to avoid this warning.\n",
            "  warnings.warn(\n"
          ]
        },
        {
          "name": "stdout",
          "output_type": "stream",
          "text": [
            "Test Accuracy = 0.2\n"
          ]
        }
      ],
      "source": [
        "ensemble_models = ensemble_seql_train(\n",
        "    X_train_mag, y_train,\n",
        "    min_l=16,\n",
        "    word_size=16,\n",
        "    alpha_size=4\n",
        ")\n",
        "\n",
        "y_pred = ensemble_seql_predict(\n",
        "    X_test_mag,\n",
        "    ensemble_models,\n",
        "    word_size=16,\n",
        "    alpha_size=4\n",
        ")\n",
        "\n",
        "acc = metrics.accuracy_score(y_test, y_pred)\n",
        "print(\"Test Accuracy =\", acc)"
      ]
    }
  ],
  "metadata": {
    "colab": {
      "provenance": []
    },
    "kernelspec": {
      "display_name": "Python 3",
      "name": "python3"
    },
    "language_info": {
      "name": "python"
    }
  },
  "nbformat": 4,
  "nbformat_minor": 0
}

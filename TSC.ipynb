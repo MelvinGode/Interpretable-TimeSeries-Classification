{
 "cells": [
  {
   "cell_type": "code",
   "execution_count": 1,
   "metadata": {},
   "outputs": [],
   "source": [
    "import numpy as np\n",
    "import matplotlib.pyplot as plt\n",
    "import librosa\n",
    "import IPython\n",
    "import pandas as pd\n",
    "\n",
    "import os\n",
    "os.chdir(\"F:\\M2\\Time Series Classification Project\")"
   ]
  },
  {
   "cell_type": "markdown",
   "metadata": {},
   "source": [
    "## Importing data"
   ]
  },
  {
   "cell_type": "code",
   "execution_count": 3,
   "metadata": {},
   "outputs": [
    {
     "name": "stdout",
     "output_type": "stream",
     "text": [
      "Reading songs\n"
     ]
    },
    {
     "name": "stderr",
     "output_type": "stream",
     "text": [
      "C:\\Users\\melvi\\AppData\\Local\\Temp\\ipykernel_19768\\3135833796.py:20: UserWarning: PySoundFile failed. Trying audioread instead.\n",
      "  music_time_series, sr = librosa.load(dataloc + genre + \"/\" + music)\n",
      "C:\\Users\\melvi\\AppData\\Roaming\\Python\\Python39\\site-packages\\librosa\\core\\audio.py:184: FutureWarning: librosa.core.audio.__audioread_load\n",
      "\tDeprecated as of librosa version 0.10.0.\n",
      "\tIt will be removed in librosa version 1.0.\n",
      "  y, sr_native = __audioread_load(path, offset, duration, dtype)\n"
     ]
    },
    {
     "name": "stdout",
     "output_type": "stream",
     "text": [
      "Error loading jazz.00054.wav: \n",
      "Creating dataframe\n",
      "Saving dataframe\n",
      "Saving train and test data\n"
     ]
    }
   ],
   "source": [
    "dataloc  = \"Data/genres_original/\"\n",
    "\n",
    "genres = os.listdir(dataloc)\n",
    "\n",
    "musiclist = []\n",
    "genrelist = []\n",
    "srlist = []\n",
    "\n",
    "musictrain = []\n",
    "genretrain = []\n",
    "srtrain = []\n",
    "musictest = []\n",
    "genretest = []\n",
    "srtest = []\n",
    "\n",
    "print(\"Reading songs\")\n",
    "for genre in genres:\n",
    "    for i, music in enumerate(os.listdir(dataloc + genre)):\n",
    "        try:\n",
    "            music_time_series, sr = librosa.load(dataloc + genre + \"/\" + music)\n",
    "        except Exception as e:\n",
    "            print(f\"Error loading {music}: {e}\")\n",
    "            continue\n",
    "        srlist.append(sr)\n",
    "        musiclist.append(music_time_series)\n",
    "        genrelist.append(genre)\n",
    "\n",
    "        if i<25: # 25-75 test train split\n",
    "            musictest.append(music_time_series)\n",
    "            genretest.append(genre)\n",
    "            srtest.append(sr)\n",
    "        else:\n",
    "            musictrain.append(music_time_series)\n",
    "            genretrain.append(genre)\n",
    "            srtrain.append(sr)\n",
    "\n",
    "print(\"Creating dataframe\")\n",
    "fulldata = pd.DataFrame({'Music': musiclist, 'Genre': genrelist, \"SampleRate\": srlist})\n",
    "\n",
    "print(\"Saving dataframe\")\n",
    "fulldata.to_csv(\"Data/fulldata.csv\", index=False)\n",
    "\n",
    "print(\"Saving train and test data\")\n",
    "train = pd.DataFrame({\"Music\" : musictrain, \"Genre\" : genretrain, \"SampleRate\": srtrain})\n",
    "test = pd.DataFrame({\"Music\" : musictest, \"Genre\" : genretest, \"SampleRate\": srtest})\n",
    "train.to_csv(\"Data/train.csv\", index=False)\n",
    "test.to_csv(\"Data/test.csv\", index=False)"
   ]
  },
  {
   "cell_type": "markdown",
   "metadata": {},
   "source": [
    "## SAX Implementation"
   ]
  },
  {
   "cell_type": "code",
   "execution_count": 107,
   "metadata": {},
   "outputs": [],
   "source": [
    "letters = np.array([\"a\", \"b\", \"c\", \"d\", \"e\", \"f\", \"g\", \"h\", \"i\", \"j\", \"k\", \"l\", \"m\", \"n\", \"o\", \"p\", \"q\", \"r\", \"s\", \"t\", \"u\", \"v\", \"w\", \"x\", \"y\", \"z\"])\n",
    "\n",
    "def SAX(time_series, w, alpha):\n",
    "    time_series = np.array(time_series)\n",
    "    time_series = (time_series - np.mean(time_series)) / np.std(time_series)\n",
    "\n",
    "    # PAA\n",
    "    PAA=[]\n",
    "    for word_index in range(w):\n",
    "        ceiling = min(len(time_series), int((word_index+1)*len(time_series)/w))\n",
    "        PAA.append(np.mean(time_series[int(word_index*len(time_series)/w):ceiling]))\n",
    "    \n",
    "    lookup = np.quantile(time_series, np.arange(1,alpha)*(1/alpha) )\n",
    "    \n",
    "    sax = np.digitize(PAA, lookup)\n",
    "\n",
    "    return list(sax)\n",
    "\n",
    "def SAX_window(time_series, w, alpha, l):\n",
    "    sax_sentence = []\n",
    "    previous_word = np.full(w,-1)\n",
    "\n",
    "    for i in range(0, len(time_series), l):\n",
    "        ceiling = min(len(time_series), (i+1)*l )\n",
    "        sax_word = SAX(time_series[i : ceiling], w, alpha)\n",
    "\n",
    "        npsaxword = np.array(sax_word)\n",
    "        if np.sum(npsaxword - previous_word) == 0: # Remove repeated words for reasons\n",
    "            continue\n",
    "        \n",
    "        if i > 0:\n",
    "            sax_sentence.append(\" \")\n",
    "        sax_sentence.extend(sax_word)\n",
    "        previous_word = sax_word\n",
    "\n",
    "    phrase = \"\"\n",
    "    for letter in sax_sentence:\n",
    "        if isinstance(letter, np.int64):\n",
    "            phrase += letters[letter]\n",
    "        else :\n",
    "            phrase += letter\n",
    "    return phrase"
   ]
  },
  {
   "cell_type": "code",
   "execution_count": 109,
   "metadata": {},
   "outputs": [
    {
     "name": "stdout",
     "output_type": "stream",
     "text": [
      "bbbbcbbbbcbbbcbb_bbbbbbbbbbbbbbbb\n"
     ]
    }
   ],
   "source": [
    "nptrainmusic = train[\"Music\"].to_numpy()\n",
    "\n",
    "testmusic = nptrainmusic[14]\n",
    "\n",
    "# Pre-process eliminating noise\n",
    "#testmusic = librosa.effects.preemphasis(testmusic)\n",
    "\n",
    "sentence = SAX_window(testmusic, w = 16, alpha = 4, l = int(.2*len(testmusic)+1 ))\n",
    "print(sentence)"
   ]
  },
  {
   "cell_type": "code",
   "execution_count": null,
   "metadata": {},
   "outputs": [],
   "source": [
    "from sklearn.linear_model import LogisticRegression\n",
    "from sklearn.feature_extraction.text import CountVectorizer\n",
    "from sklearn.pipeline import make_pipeline\n",
    "from sklearn.preprocessing import FunctionTransformer\n",
    "\n",
    "# Function to convert time series to SAX representation\n",
    "def time_series_to_sax(time_series, w, alpha):\n",
    "    return ' '.join(map(str, SAX_window(time_series, w, alpha, int(.2*len(time_series)+1))))\n",
    "\n",
    "# Convert the training and test data to SAX representation\n",
    "train_sax = [time_series_to_sax(ts, w=16, alpha=4) for ts in train['Music']]\n",
    "test_sax = [time_series_to_sax(ts, w=16, alpha=4) for ts in test['Music']]\n",
    "\n",
    "# Filter out empty SAX representations and corresponding labels\n",
    "train_sax, train_labels = zip(*[(sax, label) for sax, label in zip(train_sax, train['Genre']) if sax.strip()])\n",
    "test_sax, test_labels = zip(*[(sax, label) for sax, label in zip(test_sax, test['Genre']) if sax.strip()])\n",
    "\n",
    "# Create a pipeline with CountVectorizer and LogisticRegression\n",
    "seql_pipeline = make_pipeline(\n",
    "    CountVectorizer(),\n",
    "    LogisticRegression(max_iter=1000)\n",
    ")\n",
    "\n",
    "# Train the model\n",
    "print(\"Training the model\")\n",
    "seql_pipeline.fit(train_sax, train_labels)\n",
    "\n",
    "# Predict on the test set\n",
    "test_predictions = seql_pipeline.predict(test_sax)\n",
    "\n",
    "# Evaluate the model\n",
    "accuracy = (test_predictions == test_labels).mean()\n",
    "print(f\"Test Accuracy: {accuracy:.2f}\")"
   ]
  }
 ],
 "metadata": {
  "kernelspec": {
   "display_name": "base",
   "language": "python",
   "name": "python3"
  },
  "language_info": {
   "codemirror_mode": {
    "name": "ipython",
    "version": 3
   },
   "file_extension": ".py",
   "mimetype": "text/x-python",
   "name": "python",
   "nbconvert_exporter": "python",
   "pygments_lexer": "ipython3",
   "version": "3.9.20"
  }
 },
 "nbformat": 4,
 "nbformat_minor": 2
}
